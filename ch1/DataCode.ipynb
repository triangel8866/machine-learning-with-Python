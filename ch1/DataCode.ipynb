{
 "cells": [
  {
   "cell_type": "code",
   "execution_count": 2,
   "metadata": {},
   "outputs": [],
   "source": [
    "import numpy as np"
   ]
  },
  {
   "cell_type": "code",
   "execution_count": 3,
   "metadata": {},
   "outputs": [
    {
     "name": "stdout",
     "output_type": "stream",
     "text": [
      "x:\n",
      "[[1 2 3]\n",
      " [4 5 6]]\n"
     ]
    }
   ],
   "source": [
    "x = np.array([[1,2,3],[4,5,6]])\n",
    "print(\"x:\\n{}\".format(x))"
   ]
  },
  {
   "cell_type": "code",
   "execution_count": 4,
   "metadata": {},
   "outputs": [],
   "source": [
    "from scipy import sparse"
   ]
  },
  {
   "cell_type": "code",
   "execution_count": 6,
   "metadata": {},
   "outputs": [
    {
     "name": "stdout",
     "output_type": "stream",
     "text": [
      "Numpy array:\n",
      "[[1. 0. 0. 0.]\n",
      " [0. 1. 0. 0.]\n",
      " [0. 0. 1. 0.]\n",
      " [0. 0. 0. 1.]]\n"
     ]
    }
   ],
   "source": [
    "eye = np.eye(4)\n",
    "print(\"Numpy array:\\n{}\".format(eye))"
   ]
  },
  {
   "cell_type": "code",
   "execution_count": 8,
   "metadata": {},
   "outputs": [
    {
     "name": "stdout",
     "output_type": "stream",
     "text": [
      "\n",
      "Scipy sparse CSR matirx:\n",
      "  (0, 0)\t1.0\n",
      "  (1, 1)\t1.0\n",
      "  (2, 2)\t1.0\n",
      "  (3, 3)\t1.0\n"
     ]
    }
   ],
   "source": [
    "sparse_matrix = sparse.csr_matrix(eye)\n",
    "print(\"\\nScipy sparse CSR matirx:\\n{}\".format(sparse_matrix))"
   ]
  },
  {
   "cell_type": "code",
   "execution_count": 9,
   "metadata": {},
   "outputs": [
    {
     "name": "stdout",
     "output_type": "stream",
     "text": [
      "[1. 1. 1. 1.]\n"
     ]
    }
   ],
   "source": [
    "data=np.ones(4)"
   ]
  },
  {
   "cell_type": "code",
   "execution_count": 15,
   "metadata": {},
   "outputs": [
    {
     "name": "stdout",
     "output_type": "stream",
     "text": [
      "COO:\n",
      "  (0, 0)\t1.0\n",
      "  (1, 1)\t1.0\n",
      "  (2, 2)\t1.0\n",
      "  (3, 3)\t1.0\n"
     ]
    }
   ],
   "source": [
    "row_indices = np.arange(4)\n",
    "col_indices = np.arange(4)\n",
    "eye_coo = sparse.coo_matrix((data,(row_indices, col_indices)))\n",
    "print(\"COO:\\n{}\".format(eye_coo))"
   ]
  },
  {
   "cell_type": "code",
   "execution_count": 25,
   "metadata": {},
   "outputs": [],
   "source": [
    "%matplotlib inline\n",
    "import matplotlib.pyplot as plt"
   ]
  },
  {
   "cell_type": "code",
   "execution_count": 18,
   "metadata": {},
   "outputs": [],
   "source": [
    "x = np.linspace(-10, 10, 100)\n",
    "y = np.sin(x)"
   ]
  },
  {
   "cell_type": "code",
   "execution_count": 24,
   "metadata": {},
   "outputs": [
    {
     "data": {
      "application/javascript": [
       "/* Put everything inside the global mpl namespace */\n",
       "window.mpl = {};\n",
       "\n",
       "\n",
       "mpl.get_websocket_type = function() {\n",
       "    if (typeof(WebSocket) !== 'undefined') {\n",
       "        return WebSocket;\n",
       "    } else if (typeof(MozWebSocket) !== 'undefined') {\n",
       "        return MozWebSocket;\n",
       "    } else {\n",
       "        alert('Your browser does not have WebSocket support.' +\n",
       "              'Please try Chrome, Safari or Firefox ≥ 6. ' +\n",
       "              'Firefox 4 and 5 are also supported but you ' +\n",
       "              'have to enable WebSockets in about:config.');\n",
       "    };\n",
       "}\n",
       "\n",
       "mpl.figure = function(figure_id, websocket, ondownload, parent_element) {\n",
       "    this.id = figure_id;\n",
       "\n",
       "    this.ws = websocket;\n",
       "\n",
       "    this.supports_binary = (this.ws.binaryType != undefined);\n",
       "\n",
       "    if (!this.supports_binary) {\n",
       "        var warnings = document.getElementById(\"mpl-warnings\");\n",
       "        if (warnings) {\n",
       "            warnings.style.display = 'block';\n",
       "            warnings.textContent = (\n",
       "                \"This browser does not support binary websocket messages. \" +\n",
       "                    \"Performance may be slow.\");\n",
       "        }\n",
       "    }\n",
       "\n",
       "    this.imageObj = new Image();\n",
       "\n",
       "    this.context = undefined;\n",
       "    this.message = undefined;\n",
       "    this.canvas = undefined;\n",
       "    this.rubberband_canvas = undefined;\n",
       "    this.rubberband_context = undefined;\n",
       "    this.format_dropdown = undefined;\n",
       "\n",
       "    this.image_mode = 'full';\n",
       "\n",
       "    this.root = $('<div/>');\n",
       "    this._root_extra_style(this.root)\n",
       "    this.root.attr('style', 'display: inline-block');\n",
       "\n",
       "    $(parent_element).append(this.root);\n",
       "\n",
       "    this._init_header(this);\n",
       "    this._init_canvas(this);\n",
       "    this._init_toolbar(this);\n",
       "\n",
       "    var fig = this;\n",
       "\n",
       "    this.waiting = false;\n",
       "\n",
       "    this.ws.onopen =  function () {\n",
       "            fig.send_message(\"supports_binary\", {value: fig.supports_binary});\n",
       "            fig.send_message(\"send_image_mode\", {});\n",
       "            if (mpl.ratio != 1) {\n",
       "                fig.send_message(\"set_dpi_ratio\", {'dpi_ratio': mpl.ratio});\n",
       "            }\n",
       "            fig.send_message(\"refresh\", {});\n",
       "        }\n",
       "\n",
       "    this.imageObj.onload = function() {\n",
       "            if (fig.image_mode == 'full') {\n",
       "                // Full images could contain transparency (where diff images\n",
       "                // almost always do), so we need to clear the canvas so that\n",
       "                // there is no ghosting.\n",
       "                fig.context.clearRect(0, 0, fig.canvas.width, fig.canvas.height);\n",
       "            }\n",
       "            fig.context.drawImage(fig.imageObj, 0, 0);\n",
       "        };\n",
       "\n",
       "    this.imageObj.onunload = function() {\n",
       "        fig.ws.close();\n",
       "    }\n",
       "\n",
       "    this.ws.onmessage = this._make_on_message_function(this);\n",
       "\n",
       "    this.ondownload = ondownload;\n",
       "}\n",
       "\n",
       "mpl.figure.prototype._init_header = function() {\n",
       "    var titlebar = $(\n",
       "        '<div class=\"ui-dialog-titlebar ui-widget-header ui-corner-all ' +\n",
       "        'ui-helper-clearfix\"/>');\n",
       "    var titletext = $(\n",
       "        '<div class=\"ui-dialog-title\" style=\"width: 100%; ' +\n",
       "        'text-align: center; padding: 3px;\"/>');\n",
       "    titlebar.append(titletext)\n",
       "    this.root.append(titlebar);\n",
       "    this.header = titletext[0];\n",
       "}\n",
       "\n",
       "\n",
       "\n",
       "mpl.figure.prototype._canvas_extra_style = function(canvas_div) {\n",
       "\n",
       "}\n",
       "\n",
       "\n",
       "mpl.figure.prototype._root_extra_style = function(canvas_div) {\n",
       "\n",
       "}\n",
       "\n",
       "mpl.figure.prototype._init_canvas = function() {\n",
       "    var fig = this;\n",
       "\n",
       "    var canvas_div = $('<div/>');\n",
       "\n",
       "    canvas_div.attr('style', 'position: relative; clear: both; outline: 0');\n",
       "\n",
       "    function canvas_keyboard_event(event) {\n",
       "        return fig.key_event(event, event['data']);\n",
       "    }\n",
       "\n",
       "    canvas_div.keydown('key_press', canvas_keyboard_event);\n",
       "    canvas_div.keyup('key_release', canvas_keyboard_event);\n",
       "    this.canvas_div = canvas_div\n",
       "    this._canvas_extra_style(canvas_div)\n",
       "    this.root.append(canvas_div);\n",
       "\n",
       "    var canvas = $('<canvas/>');\n",
       "    canvas.addClass('mpl-canvas');\n",
       "    canvas.attr('style', \"left: 0; top: 0; z-index: 0; outline: 0\")\n",
       "\n",
       "    this.canvas = canvas[0];\n",
       "    this.context = canvas[0].getContext(\"2d\");\n",
       "\n",
       "    var backingStore = this.context.backingStorePixelRatio ||\n",
       "\tthis.context.webkitBackingStorePixelRatio ||\n",
       "\tthis.context.mozBackingStorePixelRatio ||\n",
       "\tthis.context.msBackingStorePixelRatio ||\n",
       "\tthis.context.oBackingStorePixelRatio ||\n",
       "\tthis.context.backingStorePixelRatio || 1;\n",
       "\n",
       "    mpl.ratio = (window.devicePixelRatio || 1) / backingStore;\n",
       "\n",
       "    var rubberband = $('<canvas/>');\n",
       "    rubberband.attr('style', \"position: absolute; left: 0; top: 0; z-index: 1;\")\n",
       "\n",
       "    var pass_mouse_events = true;\n",
       "\n",
       "    canvas_div.resizable({\n",
       "        start: function(event, ui) {\n",
       "            pass_mouse_events = false;\n",
       "        },\n",
       "        resize: function(event, ui) {\n",
       "            fig.request_resize(ui.size.width, ui.size.height);\n",
       "        },\n",
       "        stop: function(event, ui) {\n",
       "            pass_mouse_events = true;\n",
       "            fig.request_resize(ui.size.width, ui.size.height);\n",
       "        },\n",
       "    });\n",
       "\n",
       "    function mouse_event_fn(event) {\n",
       "        if (pass_mouse_events)\n",
       "            return fig.mouse_event(event, event['data']);\n",
       "    }\n",
       "\n",
       "    rubberband.mousedown('button_press', mouse_event_fn);\n",
       "    rubberband.mouseup('button_release', mouse_event_fn);\n",
       "    // Throttle sequential mouse events to 1 every 20ms.\n",
       "    rubberband.mousemove('motion_notify', mouse_event_fn);\n",
       "\n",
       "    rubberband.mouseenter('figure_enter', mouse_event_fn);\n",
       "    rubberband.mouseleave('figure_leave', mouse_event_fn);\n",
       "\n",
       "    canvas_div.on(\"wheel\", function (event) {\n",
       "        event = event.originalEvent;\n",
       "        event['data'] = 'scroll'\n",
       "        if (event.deltaY < 0) {\n",
       "            event.step = 1;\n",
       "        } else {\n",
       "            event.step = -1;\n",
       "        }\n",
       "        mouse_event_fn(event);\n",
       "    });\n",
       "\n",
       "    canvas_div.append(canvas);\n",
       "    canvas_div.append(rubberband);\n",
       "\n",
       "    this.rubberband = rubberband;\n",
       "    this.rubberband_canvas = rubberband[0];\n",
       "    this.rubberband_context = rubberband[0].getContext(\"2d\");\n",
       "    this.rubberband_context.strokeStyle = \"#000000\";\n",
       "\n",
       "    this._resize_canvas = function(width, height) {\n",
       "        // Keep the size of the canvas, canvas container, and rubber band\n",
       "        // canvas in synch.\n",
       "        canvas_div.css('width', width)\n",
       "        canvas_div.css('height', height)\n",
       "\n",
       "        canvas.attr('width', width * mpl.ratio);\n",
       "        canvas.attr('height', height * mpl.ratio);\n",
       "        canvas.attr('style', 'width: ' + width + 'px; height: ' + height + 'px;');\n",
       "\n",
       "        rubberband.attr('width', width);\n",
       "        rubberband.attr('height', height);\n",
       "    }\n",
       "\n",
       "    // Set the figure to an initial 600x600px, this will subsequently be updated\n",
       "    // upon first draw.\n",
       "    this._resize_canvas(600, 600);\n",
       "\n",
       "    // Disable right mouse context menu.\n",
       "    $(this.rubberband_canvas).bind(\"contextmenu\",function(e){\n",
       "        return false;\n",
       "    });\n",
       "\n",
       "    function set_focus () {\n",
       "        canvas.focus();\n",
       "        canvas_div.focus();\n",
       "    }\n",
       "\n",
       "    window.setTimeout(set_focus, 100);\n",
       "}\n",
       "\n",
       "mpl.figure.prototype._init_toolbar = function() {\n",
       "    var fig = this;\n",
       "\n",
       "    var nav_element = $('<div/>')\n",
       "    nav_element.attr('style', 'width: 100%');\n",
       "    this.root.append(nav_element);\n",
       "\n",
       "    // Define a callback function for later on.\n",
       "    function toolbar_event(event) {\n",
       "        return fig.toolbar_button_onclick(event['data']);\n",
       "    }\n",
       "    function toolbar_mouse_event(event) {\n",
       "        return fig.toolbar_button_onmouseover(event['data']);\n",
       "    }\n",
       "\n",
       "    for(var toolbar_ind in mpl.toolbar_items) {\n",
       "        var name = mpl.toolbar_items[toolbar_ind][0];\n",
       "        var tooltip = mpl.toolbar_items[toolbar_ind][1];\n",
       "        var image = mpl.toolbar_items[toolbar_ind][2];\n",
       "        var method_name = mpl.toolbar_items[toolbar_ind][3];\n",
       "\n",
       "        if (!name) {\n",
       "            // put a spacer in here.\n",
       "            continue;\n",
       "        }\n",
       "        var button = $('<button/>');\n",
       "        button.addClass('ui-button ui-widget ui-state-default ui-corner-all ' +\n",
       "                        'ui-button-icon-only');\n",
       "        button.attr('role', 'button');\n",
       "        button.attr('aria-disabled', 'false');\n",
       "        button.click(method_name, toolbar_event);\n",
       "        button.mouseover(tooltip, toolbar_mouse_event);\n",
       "\n",
       "        var icon_img = $('<span/>');\n",
       "        icon_img.addClass('ui-button-icon-primary ui-icon');\n",
       "        icon_img.addClass(image);\n",
       "        icon_img.addClass('ui-corner-all');\n",
       "\n",
       "        var tooltip_span = $('<span/>');\n",
       "        tooltip_span.addClass('ui-button-text');\n",
       "        tooltip_span.html(tooltip);\n",
       "\n",
       "        button.append(icon_img);\n",
       "        button.append(tooltip_span);\n",
       "\n",
       "        nav_element.append(button);\n",
       "    }\n",
       "\n",
       "    var fmt_picker_span = $('<span/>');\n",
       "\n",
       "    var fmt_picker = $('<select/>');\n",
       "    fmt_picker.addClass('mpl-toolbar-option ui-widget ui-widget-content');\n",
       "    fmt_picker_span.append(fmt_picker);\n",
       "    nav_element.append(fmt_picker_span);\n",
       "    this.format_dropdown = fmt_picker[0];\n",
       "\n",
       "    for (var ind in mpl.extensions) {\n",
       "        var fmt = mpl.extensions[ind];\n",
       "        var option = $(\n",
       "            '<option/>', {selected: fmt === mpl.default_extension}).html(fmt);\n",
       "        fmt_picker.append(option)\n",
       "    }\n",
       "\n",
       "    // Add hover states to the ui-buttons\n",
       "    $( \".ui-button\" ).hover(\n",
       "        function() { $(this).addClass(\"ui-state-hover\");},\n",
       "        function() { $(this).removeClass(\"ui-state-hover\");}\n",
       "    );\n",
       "\n",
       "    var status_bar = $('<span class=\"mpl-message\"/>');\n",
       "    nav_element.append(status_bar);\n",
       "    this.message = status_bar[0];\n",
       "}\n",
       "\n",
       "mpl.figure.prototype.request_resize = function(x_pixels, y_pixels) {\n",
       "    // Request matplotlib to resize the figure. Matplotlib will then trigger a resize in the client,\n",
       "    // which will in turn request a refresh of the image.\n",
       "    this.send_message('resize', {'width': x_pixels, 'height': y_pixels});\n",
       "}\n",
       "\n",
       "mpl.figure.prototype.send_message = function(type, properties) {\n",
       "    properties['type'] = type;\n",
       "    properties['figure_id'] = this.id;\n",
       "    this.ws.send(JSON.stringify(properties));\n",
       "}\n",
       "\n",
       "mpl.figure.prototype.send_draw_message = function() {\n",
       "    if (!this.waiting) {\n",
       "        this.waiting = true;\n",
       "        this.ws.send(JSON.stringify({type: \"draw\", figure_id: this.id}));\n",
       "    }\n",
       "}\n",
       "\n",
       "\n",
       "mpl.figure.prototype.handle_save = function(fig, msg) {\n",
       "    var format_dropdown = fig.format_dropdown;\n",
       "    var format = format_dropdown.options[format_dropdown.selectedIndex].value;\n",
       "    fig.ondownload(fig, format);\n",
       "}\n",
       "\n",
       "\n",
       "mpl.figure.prototype.handle_resize = function(fig, msg) {\n",
       "    var size = msg['size'];\n",
       "    if (size[0] != fig.canvas.width || size[1] != fig.canvas.height) {\n",
       "        fig._resize_canvas(size[0], size[1]);\n",
       "        fig.send_message(\"refresh\", {});\n",
       "    };\n",
       "}\n",
       "\n",
       "mpl.figure.prototype.handle_rubberband = function(fig, msg) {\n",
       "    var x0 = msg['x0'] / mpl.ratio;\n",
       "    var y0 = (fig.canvas.height - msg['y0']) / mpl.ratio;\n",
       "    var x1 = msg['x1'] / mpl.ratio;\n",
       "    var y1 = (fig.canvas.height - msg['y1']) / mpl.ratio;\n",
       "    x0 = Math.floor(x0) + 0.5;\n",
       "    y0 = Math.floor(y0) + 0.5;\n",
       "    x1 = Math.floor(x1) + 0.5;\n",
       "    y1 = Math.floor(y1) + 0.5;\n",
       "    var min_x = Math.min(x0, x1);\n",
       "    var min_y = Math.min(y0, y1);\n",
       "    var width = Math.abs(x1 - x0);\n",
       "    var height = Math.abs(y1 - y0);\n",
       "\n",
       "    fig.rubberband_context.clearRect(\n",
       "        0, 0, fig.canvas.width, fig.canvas.height);\n",
       "\n",
       "    fig.rubberband_context.strokeRect(min_x, min_y, width, height);\n",
       "}\n",
       "\n",
       "mpl.figure.prototype.handle_figure_label = function(fig, msg) {\n",
       "    // Updates the figure title.\n",
       "    fig.header.textContent = msg['label'];\n",
       "}\n",
       "\n",
       "mpl.figure.prototype.handle_cursor = function(fig, msg) {\n",
       "    var cursor = msg['cursor'];\n",
       "    switch(cursor)\n",
       "    {\n",
       "    case 0:\n",
       "        cursor = 'pointer';\n",
       "        break;\n",
       "    case 1:\n",
       "        cursor = 'default';\n",
       "        break;\n",
       "    case 2:\n",
       "        cursor = 'crosshair';\n",
       "        break;\n",
       "    case 3:\n",
       "        cursor = 'move';\n",
       "        break;\n",
       "    }\n",
       "    fig.rubberband_canvas.style.cursor = cursor;\n",
       "}\n",
       "\n",
       "mpl.figure.prototype.handle_message = function(fig, msg) {\n",
       "    fig.message.textContent = msg['message'];\n",
       "}\n",
       "\n",
       "mpl.figure.prototype.handle_draw = function(fig, msg) {\n",
       "    // Request the server to send over a new figure.\n",
       "    fig.send_draw_message();\n",
       "}\n",
       "\n",
       "mpl.figure.prototype.handle_image_mode = function(fig, msg) {\n",
       "    fig.image_mode = msg['mode'];\n",
       "}\n",
       "\n",
       "mpl.figure.prototype.updated_canvas_event = function() {\n",
       "    // Called whenever the canvas gets updated.\n",
       "    this.send_message(\"ack\", {});\n",
       "}\n",
       "\n",
       "// A function to construct a web socket function for onmessage handling.\n",
       "// Called in the figure constructor.\n",
       "mpl.figure.prototype._make_on_message_function = function(fig) {\n",
       "    return function socket_on_message(evt) {\n",
       "        if (evt.data instanceof Blob) {\n",
       "            /* FIXME: We get \"Resource interpreted as Image but\n",
       "             * transferred with MIME type text/plain:\" errors on\n",
       "             * Chrome.  But how to set the MIME type?  It doesn't seem\n",
       "             * to be part of the websocket stream */\n",
       "            evt.data.type = \"image/png\";\n",
       "\n",
       "            /* Free the memory for the previous frames */\n",
       "            if (fig.imageObj.src) {\n",
       "                (window.URL || window.webkitURL).revokeObjectURL(\n",
       "                    fig.imageObj.src);\n",
       "            }\n",
       "\n",
       "            fig.imageObj.src = (window.URL || window.webkitURL).createObjectURL(\n",
       "                evt.data);\n",
       "            fig.updated_canvas_event();\n",
       "            fig.waiting = false;\n",
       "            return;\n",
       "        }\n",
       "        else if (typeof evt.data === 'string' && evt.data.slice(0, 21) == \"data:image/png;base64\") {\n",
       "            fig.imageObj.src = evt.data;\n",
       "            fig.updated_canvas_event();\n",
       "            fig.waiting = false;\n",
       "            return;\n",
       "        }\n",
       "\n",
       "        var msg = JSON.parse(evt.data);\n",
       "        var msg_type = msg['type'];\n",
       "\n",
       "        // Call the  \"handle_{type}\" callback, which takes\n",
       "        // the figure and JSON message as its only arguments.\n",
       "        try {\n",
       "            var callback = fig[\"handle_\" + msg_type];\n",
       "        } catch (e) {\n",
       "            console.log(\"No handler for the '\" + msg_type + \"' message type: \", msg);\n",
       "            return;\n",
       "        }\n",
       "\n",
       "        if (callback) {\n",
       "            try {\n",
       "                // console.log(\"Handling '\" + msg_type + \"' message: \", msg);\n",
       "                callback(fig, msg);\n",
       "            } catch (e) {\n",
       "                console.log(\"Exception inside the 'handler_\" + msg_type + \"' callback:\", e, e.stack, msg);\n",
       "            }\n",
       "        }\n",
       "    };\n",
       "}\n",
       "\n",
       "// from http://stackoverflow.com/questions/1114465/getting-mouse-location-in-canvas\n",
       "mpl.findpos = function(e) {\n",
       "    //this section is from http://www.quirksmode.org/js/events_properties.html\n",
       "    var targ;\n",
       "    if (!e)\n",
       "        e = window.event;\n",
       "    if (e.target)\n",
       "        targ = e.target;\n",
       "    else if (e.srcElement)\n",
       "        targ = e.srcElement;\n",
       "    if (targ.nodeType == 3) // defeat Safari bug\n",
       "        targ = targ.parentNode;\n",
       "\n",
       "    // jQuery normalizes the pageX and pageY\n",
       "    // pageX,Y are the mouse positions relative to the document\n",
       "    // offset() returns the position of the element relative to the document\n",
       "    var x = e.pageX - $(targ).offset().left;\n",
       "    var y = e.pageY - $(targ).offset().top;\n",
       "\n",
       "    return {\"x\": x, \"y\": y};\n",
       "};\n",
       "\n",
       "/*\n",
       " * return a copy of an object with only non-object keys\n",
       " * we need this to avoid circular references\n",
       " * http://stackoverflow.com/a/24161582/3208463\n",
       " */\n",
       "function simpleKeys (original) {\n",
       "  return Object.keys(original).reduce(function (obj, key) {\n",
       "    if (typeof original[key] !== 'object')\n",
       "        obj[key] = original[key]\n",
       "    return obj;\n",
       "  }, {});\n",
       "}\n",
       "\n",
       "mpl.figure.prototype.mouse_event = function(event, name) {\n",
       "    var canvas_pos = mpl.findpos(event)\n",
       "\n",
       "    if (name === 'button_press')\n",
       "    {\n",
       "        this.canvas.focus();\n",
       "        this.canvas_div.focus();\n",
       "    }\n",
       "\n",
       "    var x = canvas_pos.x * mpl.ratio;\n",
       "    var y = canvas_pos.y * mpl.ratio;\n",
       "\n",
       "    this.send_message(name, {x: x, y: y, button: event.button,\n",
       "                             step: event.step,\n",
       "                             guiEvent: simpleKeys(event)});\n",
       "\n",
       "    /* This prevents the web browser from automatically changing to\n",
       "     * the text insertion cursor when the button is pressed.  We want\n",
       "     * to control all of the cursor setting manually through the\n",
       "     * 'cursor' event from matplotlib */\n",
       "    event.preventDefault();\n",
       "    return false;\n",
       "}\n",
       "\n",
       "mpl.figure.prototype._key_event_extra = function(event, name) {\n",
       "    // Handle any extra behaviour associated with a key event\n",
       "}\n",
       "\n",
       "mpl.figure.prototype.key_event = function(event, name) {\n",
       "\n",
       "    // Prevent repeat events\n",
       "    if (name == 'key_press')\n",
       "    {\n",
       "        if (event.which === this._key)\n",
       "            return;\n",
       "        else\n",
       "            this._key = event.which;\n",
       "    }\n",
       "    if (name == 'key_release')\n",
       "        this._key = null;\n",
       "\n",
       "    var value = '';\n",
       "    if (event.ctrlKey && event.which != 17)\n",
       "        value += \"ctrl+\";\n",
       "    if (event.altKey && event.which != 18)\n",
       "        value += \"alt+\";\n",
       "    if (event.shiftKey && event.which != 16)\n",
       "        value += \"shift+\";\n",
       "\n",
       "    value += 'k';\n",
       "    value += event.which.toString();\n",
       "\n",
       "    this._key_event_extra(event, name);\n",
       "\n",
       "    this.send_message(name, {key: value,\n",
       "                             guiEvent: simpleKeys(event)});\n",
       "    return false;\n",
       "}\n",
       "\n",
       "mpl.figure.prototype.toolbar_button_onclick = function(name) {\n",
       "    if (name == 'download') {\n",
       "        this.handle_save(this, null);\n",
       "    } else {\n",
       "        this.send_message(\"toolbar_button\", {name: name});\n",
       "    }\n",
       "};\n",
       "\n",
       "mpl.figure.prototype.toolbar_button_onmouseover = function(tooltip) {\n",
       "    this.message.textContent = tooltip;\n",
       "};\n",
       "mpl.toolbar_items = [[\"Home\", \"Reset original view\", \"fa fa-home icon-home\", \"home\"], [\"Back\", \"Back to  previous view\", \"fa fa-arrow-left icon-arrow-left\", \"back\"], [\"Forward\", \"Forward to next view\", \"fa fa-arrow-right icon-arrow-right\", \"forward\"], [\"\", \"\", \"\", \"\"], [\"Pan\", \"Pan axes with left mouse, zoom with right\", \"fa fa-arrows icon-move\", \"pan\"], [\"Zoom\", \"Zoom to rectangle\", \"fa fa-square-o icon-check-empty\", \"zoom\"], [\"\", \"\", \"\", \"\"], [\"Download\", \"Download plot\", \"fa fa-floppy-o icon-save\", \"download\"]];\n",
       "\n",
       "mpl.extensions = [\"eps\", \"jpeg\", \"pdf\", \"png\", \"ps\", \"raw\", \"svg\", \"tif\"];\n",
       "\n",
       "mpl.default_extension = \"png\";var comm_websocket_adapter = function(comm) {\n",
       "    // Create a \"websocket\"-like object which calls the given IPython comm\n",
       "    // object with the appropriate methods. Currently this is a non binary\n",
       "    // socket, so there is still some room for performance tuning.\n",
       "    var ws = {};\n",
       "\n",
       "    ws.close = function() {\n",
       "        comm.close()\n",
       "    };\n",
       "    ws.send = function(m) {\n",
       "        //console.log('sending', m);\n",
       "        comm.send(m);\n",
       "    };\n",
       "    // Register the callback with on_msg.\n",
       "    comm.on_msg(function(msg) {\n",
       "        //console.log('receiving', msg['content']['data'], msg);\n",
       "        // Pass the mpl event to the overridden (by mpl) onmessage function.\n",
       "        ws.onmessage(msg['content']['data'])\n",
       "    });\n",
       "    return ws;\n",
       "}\n",
       "\n",
       "mpl.mpl_figure_comm = function(comm, msg) {\n",
       "    // This is the function which gets called when the mpl process\n",
       "    // starts-up an IPython Comm through the \"matplotlib\" channel.\n",
       "\n",
       "    var id = msg.content.data.id;\n",
       "    // Get hold of the div created by the display call when the Comm\n",
       "    // socket was opened in Python.\n",
       "    var element = $(\"#\" + id);\n",
       "    var ws_proxy = comm_websocket_adapter(comm)\n",
       "\n",
       "    function ondownload(figure, format) {\n",
       "        window.open(figure.imageObj.src);\n",
       "    }\n",
       "\n",
       "    var fig = new mpl.figure(id, ws_proxy,\n",
       "                           ondownload,\n",
       "                           element.get(0));\n",
       "\n",
       "    // Call onopen now - mpl needs it, as it is assuming we've passed it a real\n",
       "    // web socket which is closed, not our websocket->open comm proxy.\n",
       "    ws_proxy.onopen();\n",
       "\n",
       "    fig.parent_element = element.get(0);\n",
       "    fig.cell_info = mpl.find_output_cell(\"<div id='\" + id + \"'></div>\");\n",
       "    if (!fig.cell_info) {\n",
       "        console.error(\"Failed to find cell for figure\", id, fig);\n",
       "        return;\n",
       "    }\n",
       "\n",
       "    var output_index = fig.cell_info[2]\n",
       "    var cell = fig.cell_info[0];\n",
       "\n",
       "};\n",
       "\n",
       "mpl.figure.prototype.handle_close = function(fig, msg) {\n",
       "    var width = fig.canvas.width/mpl.ratio\n",
       "    fig.root.unbind('remove')\n",
       "\n",
       "    // Update the output cell to use the data from the current canvas.\n",
       "    fig.push_to_output();\n",
       "    var dataURL = fig.canvas.toDataURL();\n",
       "    // Re-enable the keyboard manager in IPython - without this line, in FF,\n",
       "    // the notebook keyboard shortcuts fail.\n",
       "    IPython.keyboard_manager.enable()\n",
       "    $(fig.parent_element).html('<img src=\"' + dataURL + '\" width=\"' + width + '\">');\n",
       "    fig.close_ws(fig, msg);\n",
       "}\n",
       "\n",
       "mpl.figure.prototype.close_ws = function(fig, msg){\n",
       "    fig.send_message('closing', msg);\n",
       "    // fig.ws.close()\n",
       "}\n",
       "\n",
       "mpl.figure.prototype.push_to_output = function(remove_interactive) {\n",
       "    // Turn the data on the canvas into data in the output cell.\n",
       "    var width = this.canvas.width/mpl.ratio\n",
       "    var dataURL = this.canvas.toDataURL();\n",
       "    this.cell_info[1]['text/html'] = '<img src=\"' + dataURL + '\" width=\"' + width + '\">';\n",
       "}\n",
       "\n",
       "mpl.figure.prototype.updated_canvas_event = function() {\n",
       "    // Tell IPython that the notebook contents must change.\n",
       "    IPython.notebook.set_dirty(true);\n",
       "    this.send_message(\"ack\", {});\n",
       "    var fig = this;\n",
       "    // Wait a second, then push the new image to the DOM so\n",
       "    // that it is saved nicely (might be nice to debounce this).\n",
       "    setTimeout(function () { fig.push_to_output() }, 1000);\n",
       "}\n",
       "\n",
       "mpl.figure.prototype._init_toolbar = function() {\n",
       "    var fig = this;\n",
       "\n",
       "    var nav_element = $('<div/>')\n",
       "    nav_element.attr('style', 'width: 100%');\n",
       "    this.root.append(nav_element);\n",
       "\n",
       "    // Define a callback function for later on.\n",
       "    function toolbar_event(event) {\n",
       "        return fig.toolbar_button_onclick(event['data']);\n",
       "    }\n",
       "    function toolbar_mouse_event(event) {\n",
       "        return fig.toolbar_button_onmouseover(event['data']);\n",
       "    }\n",
       "\n",
       "    for(var toolbar_ind in mpl.toolbar_items){\n",
       "        var name = mpl.toolbar_items[toolbar_ind][0];\n",
       "        var tooltip = mpl.toolbar_items[toolbar_ind][1];\n",
       "        var image = mpl.toolbar_items[toolbar_ind][2];\n",
       "        var method_name = mpl.toolbar_items[toolbar_ind][3];\n",
       "\n",
       "        if (!name) { continue; };\n",
       "\n",
       "        var button = $('<button class=\"btn btn-default\" href=\"#\" title=\"' + name + '\"><i class=\"fa ' + image + ' fa-lg\"></i></button>');\n",
       "        button.click(method_name, toolbar_event);\n",
       "        button.mouseover(tooltip, toolbar_mouse_event);\n",
       "        nav_element.append(button);\n",
       "    }\n",
       "\n",
       "    // Add the status bar.\n",
       "    var status_bar = $('<span class=\"mpl-message\" style=\"text-align:right; float: right;\"/>');\n",
       "    nav_element.append(status_bar);\n",
       "    this.message = status_bar[0];\n",
       "\n",
       "    // Add the close button to the window.\n",
       "    var buttongrp = $('<div class=\"btn-group inline pull-right\"></div>');\n",
       "    var button = $('<button class=\"btn btn-mini btn-primary\" href=\"#\" title=\"Stop Interaction\"><i class=\"fa fa-power-off icon-remove icon-large\"></i></button>');\n",
       "    button.click(function (evt) { fig.handle_close(fig, {}); } );\n",
       "    button.mouseover('Stop Interaction', toolbar_mouse_event);\n",
       "    buttongrp.append(button);\n",
       "    var titlebar = this.root.find($('.ui-dialog-titlebar'));\n",
       "    titlebar.prepend(buttongrp);\n",
       "}\n",
       "\n",
       "mpl.figure.prototype._root_extra_style = function(el){\n",
       "    var fig = this\n",
       "    el.on(\"remove\", function(){\n",
       "\tfig.close_ws(fig, {});\n",
       "    });\n",
       "}\n",
       "\n",
       "mpl.figure.prototype._canvas_extra_style = function(el){\n",
       "    // this is important to make the div 'focusable\n",
       "    el.attr('tabindex', 0)\n",
       "    // reach out to IPython and tell the keyboard manager to turn it's self\n",
       "    // off when our div gets focus\n",
       "\n",
       "    // location in version 3\n",
       "    if (IPython.notebook.keyboard_manager) {\n",
       "        IPython.notebook.keyboard_manager.register_events(el);\n",
       "    }\n",
       "    else {\n",
       "        // location in version 2\n",
       "        IPython.keyboard_manager.register_events(el);\n",
       "    }\n",
       "\n",
       "}\n",
       "\n",
       "mpl.figure.prototype._key_event_extra = function(event, name) {\n",
       "    var manager = IPython.notebook.keyboard_manager;\n",
       "    if (!manager)\n",
       "        manager = IPython.keyboard_manager;\n",
       "\n",
       "    // Check for shift+enter\n",
       "    if (event.shiftKey && event.which == 13) {\n",
       "        this.canvas_div.blur();\n",
       "        event.shiftKey = false;\n",
       "        // Send a \"J\" for go to next cell\n",
       "        event.which = 74;\n",
       "        event.keyCode = 74;\n",
       "        manager.command_mode();\n",
       "        manager.handle_keydown(event);\n",
       "    }\n",
       "}\n",
       "\n",
       "mpl.figure.prototype.handle_save = function(fig, msg) {\n",
       "    fig.ondownload(fig, null);\n",
       "}\n",
       "\n",
       "\n",
       "mpl.find_output_cell = function(html_output) {\n",
       "    // Return the cell and output element which can be found *uniquely* in the notebook.\n",
       "    // Note - this is a bit hacky, but it is done because the \"notebook_saving.Notebook\"\n",
       "    // IPython event is triggered only after the cells have been serialised, which for\n",
       "    // our purposes (turning an active figure into a static one), is too late.\n",
       "    var cells = IPython.notebook.get_cells();\n",
       "    var ncells = cells.length;\n",
       "    for (var i=0; i<ncells; i++) {\n",
       "        var cell = cells[i];\n",
       "        if (cell.cell_type === 'code'){\n",
       "            for (var j=0; j<cell.output_area.outputs.length; j++) {\n",
       "                var data = cell.output_area.outputs[j];\n",
       "                if (data.data) {\n",
       "                    // IPython >= 3 moved mimebundle to data attribute of output\n",
       "                    data = data.data;\n",
       "                }\n",
       "                if (data['text/html'] == html_output) {\n",
       "                    return [cell, data, j];\n",
       "                }\n",
       "            }\n",
       "        }\n",
       "    }\n",
       "}\n",
       "\n",
       "// Register the function which deals with the matplotlib target/channel.\n",
       "// The kernel may be null if the page has been refreshed.\n",
       "if (IPython.notebook.kernel != null) {\n",
       "    IPython.notebook.kernel.comm_manager.register_target('matplotlib', mpl.mpl_figure_comm);\n",
       "}\n"
      ],
      "text/plain": [
       "<IPython.core.display.Javascript object>"
      ]
     },
     "metadata": {},
     "output_type": "display_data"
    },
    {
     "data": {
      "text/html": [
       "<img src=\"data:image/png;base64,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\" width=\"432\">"
      ],
      "text/plain": [
       "<IPython.core.display.HTML object>"
      ]
     },
     "metadata": {},
     "output_type": "display_data"
    },
    {
     "data": {
      "text/plain": [
       "[<matplotlib.lines.Line2D at 0x1963359e8d0>]"
      ]
     },
     "execution_count": 24,
     "metadata": {},
     "output_type": "execute_result"
    }
   ],
   "source": [
    "plt.plot(x, y, marker=\"x\")"
   ]
  },
  {
   "cell_type": "code",
   "execution_count": 14,
   "metadata": {},
   "outputs": [],
   "source": [
    "import pandas as pd\n",
    "data = {\"Name\": [\"John\",\"Anna\"],\n",
    "       \"Location\": [\"New York\", \"Paris\"],\n",
    "       \"Age\": [24,13]}"
   ]
  },
  {
   "cell_type": "code",
   "execution_count": 27,
   "metadata": {},
   "outputs": [
    {
     "data": {
      "text/html": [
       "<div>\n",
       "<style scoped>\n",
       "    .dataframe tbody tr th:only-of-type {\n",
       "        vertical-align: middle;\n",
       "    }\n",
       "\n",
       "    .dataframe tbody tr th {\n",
       "        vertical-align: top;\n",
       "    }\n",
       "\n",
       "    .dataframe thead th {\n",
       "        text-align: right;\n",
       "    }\n",
       "</style>\n",
       "<table border=\"1\" class=\"dataframe\">\n",
       "  <thead>\n",
       "    <tr style=\"text-align: right;\">\n",
       "      <th></th>\n",
       "      <th>Name</th>\n",
       "      <th>Location</th>\n",
       "      <th>Age</th>\n",
       "    </tr>\n",
       "  </thead>\n",
       "  <tbody>\n",
       "    <tr>\n",
       "      <th>0</th>\n",
       "      <td>John</td>\n",
       "      <td>New York</td>\n",
       "      <td>24</td>\n",
       "    </tr>\n",
       "    <tr>\n",
       "      <th>1</th>\n",
       "      <td>Anna</td>\n",
       "      <td>Paris</td>\n",
       "      <td>13</td>\n",
       "    </tr>\n",
       "  </tbody>\n",
       "</table>\n",
       "</div>"
      ],
      "text/plain": [
       "   Name  Location  Age\n",
       "0  John  New York   24\n",
       "1  Anna     Paris   13"
      ]
     },
     "metadata": {},
     "output_type": "display_data"
    }
   ],
   "source": [
    "data_pandas = pd.DataFrame(data)\n",
    "display(data_pandas)"
   ]
  },
  {
   "cell_type": "code",
   "execution_count": 29,
   "metadata": {},
   "outputs": [
    {
     "data": {
      "text/html": [
       "<div>\n",
       "<style scoped>\n",
       "    .dataframe tbody tr th:only-of-type {\n",
       "        vertical-align: middle;\n",
       "    }\n",
       "\n",
       "    .dataframe tbody tr th {\n",
       "        vertical-align: top;\n",
       "    }\n",
       "\n",
       "    .dataframe thead th {\n",
       "        text-align: right;\n",
       "    }\n",
       "</style>\n",
       "<table border=\"1\" class=\"dataframe\">\n",
       "  <thead>\n",
       "    <tr style=\"text-align: right;\">\n",
       "      <th></th>\n",
       "      <th>Name</th>\n",
       "      <th>Location</th>\n",
       "      <th>Age</th>\n",
       "    </tr>\n",
       "  </thead>\n",
       "  <tbody>\n",
       "    <tr>\n",
       "      <th>0</th>\n",
       "      <td>John</td>\n",
       "      <td>New York</td>\n",
       "      <td>24</td>\n",
       "    </tr>\n",
       "    <tr>\n",
       "      <th>1</th>\n",
       "      <td>Anna</td>\n",
       "      <td>Paris</td>\n",
       "      <td>13</td>\n",
       "    </tr>\n",
       "  </tbody>\n",
       "</table>\n",
       "</div>"
      ],
      "text/plain": [
       "   Name  Location  Age\n",
       "0  John  New York   24\n",
       "1  Anna     Paris   13"
      ]
     },
     "metadata": {},
     "output_type": "display_data"
    }
   ],
   "source": [
    "display(data_pandas[data_pandas.Age < 30])"
   ]
  },
  {
   "cell_type": "code",
   "execution_count": 34,
   "metadata": {},
   "outputs": [
    {
     "name": "stdout",
     "output_type": "stream",
     "text": [
      "Collecting mglearn\n",
      "  Downloading https://files.pythonhosted.org/packages/fb/01/8d3630ecc767c9de96a9c46e055f2a3a5f9e14a47d3d0348a36a5005fe67/mglearn-0.1.7.tar.gz (540kB)\n",
      "Requirement already satisfied: numpy in c:\\users\\yue.yuan\\appdata\\local\\programs\\python\\python37\\lib\\site-packages (from mglearn) (1.15.1)\n",
      "Requirement already satisfied: matplotlib in c:\\users\\yue.yuan\\appdata\\local\\programs\\python\\python37\\lib\\site-packages (from mglearn) (2.2.3)\n",
      "Requirement already satisfied: scikit-learn in c:\\users\\yue.yuan\\appdata\\local\\programs\\python\\python37\\lib\\site-packages (from mglearn) (0.20.0)\n",
      "Requirement already satisfied: pandas in c:\\users\\yue.yuan\\appdata\\local\\programs\\python\\python37\\lib\\site-packages (from mglearn) (0.23.4)\n",
      "Requirement already satisfied: pillow in c:\\users\\yue.yuan\\appdata\\local\\programs\\python\\python37\\lib\\site-packages (from mglearn) (5.3.0)\n",
      "Requirement already satisfied: cycler in c:\\users\\yue.yuan\\appdata\\local\\programs\\python\\python37\\lib\\site-packages (from mglearn) (0.10.0)\n",
      "Collecting imageio (from mglearn)\n",
      "  Downloading https://files.pythonhosted.org/packages/af/0a/943c965d372dae0b1f1482677d29030ab834351a61a9a632fd62f27f1523/imageio-2.5.0-py3-none-any.whl (3.3MB)\n",
      "Requirement already satisfied: kiwisolver>=1.0.1 in c:\\users\\yue.yuan\\appdata\\local\\programs\\python\\python37\\lib\\site-packages (from matplotlib->mglearn) (1.0.1)\n",
      "Requirement already satisfied: six>=1.10 in c:\\users\\yue.yuan\\appdata\\local\\programs\\python\\python37\\lib\\site-packages (from matplotlib->mglearn) (1.11.0)\n",
      "Requirement already satisfied: pytz in c:\\users\\yue.yuan\\appdata\\local\\programs\\python\\python37\\lib\\site-packages (from matplotlib->mglearn) (2018.5)\n",
      "Requirement already satisfied: pyparsing!=2.0.4,!=2.1.2,!=2.1.6,>=2.0.1 in c:\\users\\yue.yuan\\appdata\\local\\programs\\python\\python37\\lib\\site-packages (from matplotlib->mglearn) (2.2.0)\n",
      "Requirement already satisfied: python-dateutil>=2.1 in c:\\users\\yue.yuan\\appdata\\local\\programs\\python\\python37\\lib\\site-packages (from matplotlib->mglearn) (2.7.3)\n",
      "Requirement already satisfied: scipy>=0.13.3 in c:\\users\\yue.yuan\\appdata\\local\\programs\\python\\python37\\lib\\site-packages (from scikit-learn->mglearn) (1.1.0)\n",
      "Requirement already satisfied: setuptools in c:\\users\\yue.yuan\\appdata\\local\\programs\\python\\python37\\lib\\site-packages (from kiwisolver>=1.0.1->matplotlib->mglearn) (39.0.1)\n",
      "Building wheels for collected packages: mglearn\n",
      "  Building wheel for mglearn (setup.py): started\n",
      "  Building wheel for mglearn (setup.py): finished with status 'done'\n",
      "  Stored in directory: C:\\Users\\yue.yuan\\AppData\\Local\\pip\\Cache\\wheels\\74\\cf\\8d\\04f4932d15854a36726c6210763c7127e62de28f5c8ddfcf3b\n",
      "Successfully built mglearn\n",
      "Installing collected packages: imageio, mglearn\n",
      "Successfully installed imageio-2.5.0 mglearn-0.1.7\n"
     ]
    }
   ],
   "source": [
    "import sys\n",
    "!{sys.executable} -m pip install mglearn"
   ]
  },
  {
   "cell_type": "code",
   "execution_count": 1,
   "metadata": {},
   "outputs": [
    {
     "name": "stdout",
     "output_type": "stream",
     "text": [
      "0.20.0\n"
     ]
    }
   ],
   "source": [
    "import sklearn\n",
    "print(sklearn.__version__)"
   ]
  },
  {
   "cell_type": "code",
   "execution_count": 2,
   "metadata": {},
   "outputs": [],
   "source": [
    "from sklearn.datasets import load_iris\n",
    "iris_datasets = load_iris()"
   ]
  },
  {
   "cell_type": "code",
   "execution_count": 40,
   "metadata": {},
   "outputs": [
    {
     "name": "stdout",
     "output_type": "stream",
     "text": [
      "Keys of iris:\n",
      "dict_keys(['data', 'target', 'target_names', 'DESCR', 'feature_names', 'filename'])\n"
     ]
    }
   ],
   "source": [
    "print(\"Keys of iris:\\n{}\".format(iris_datasets.keys()))"
   ]
  },
  {
   "cell_type": "code",
   "execution_count": 43,
   "metadata": {},
   "outputs": [
    {
     "name": "stdout",
     "output_type": "stream",
     "text": [
      ".. _iris_dataset:\n",
      "\n",
      "Iris plants dataset\n",
      "--------------------\n",
      "\n",
      "**Data Set Characteristics:**\n",
      "\n",
      "    :Number of Instances: 150 (50 in each of three classes)\n",
      "    :Number of Attributes: 4 numeric, pre\n",
      "...\n"
     ]
    }
   ],
   "source": [
    "print(iris_datasets['DESCR'][:193] + \"\\n...\")"
   ]
  },
  {
   "cell_type": "code",
   "execution_count": 44,
   "metadata": {},
   "outputs": [
    {
     "name": "stdout",
     "output_type": "stream",
     "text": [
      "Target names: ['setosa' 'versicolor' 'virginica']\n"
     ]
    }
   ],
   "source": [
    "print(\"Target names: {}\".format(iris_datasets['target_names']))"
   ]
  },
  {
   "cell_type": "code",
   "execution_count": 45,
   "metadata": {},
   "outputs": [
    {
     "name": "stdout",
     "output_type": "stream",
     "text": [
      "feature names: \n",
      "['sepal length (cm)', 'sepal width (cm)', 'petal length (cm)', 'petal width (cm)']\n"
     ]
    }
   ],
   "source": [
    "print(\"feature names: \\n{}\".format(iris_datasets['feature_names']))"
   ]
  },
  {
   "cell_type": "code",
   "execution_count": 46,
   "metadata": {},
   "outputs": [
    {
     "name": "stdout",
     "output_type": "stream",
     "text": [
      "type of data: <class 'numpy.ndarray'>\n"
     ]
    }
   ],
   "source": [
    "print(\"type of data: {}\".format(type(iris_datasets['data'])))"
   ]
  },
  {
   "cell_type": "code",
   "execution_count": 3,
   "metadata": {},
   "outputs": [
    {
     "name": "stdout",
     "output_type": "stream",
     "text": [
      "Shape of data: (150, 4)\n"
     ]
    }
   ],
   "source": [
    "print(\"Shape of data: {}\".format(iris_datasets['data'].shape))"
   ]
  },
  {
   "cell_type": "code",
   "execution_count": 5,
   "metadata": {},
   "outputs": [
    {
     "name": "stdout",
     "output_type": "stream",
     "text": [
      "First 5 columns of data: \n",
      "[[5.1 3.5 1.4 0.2]\n",
      " [4.9 3.  1.4 0.2]\n",
      " [4.7 3.2 1.3 0.2]\n",
      " [4.6 3.1 1.5 0.2]\n",
      " [5.  3.6 1.4 0.2]]\n"
     ]
    }
   ],
   "source": [
    "print(\"First 5 columns of data: \\n{}\".format(iris_datasets['data'][:5]))"
   ]
  },
  {
   "cell_type": "code",
   "execution_count": 6,
   "metadata": {},
   "outputs": [
    {
     "name": "stdout",
     "output_type": "stream",
     "text": [
      "Type of target: <class 'numpy.ndarray'>\n"
     ]
    }
   ],
   "source": [
    "print(\"Type of target: {}\".format(type(iris_datasets['target'])))"
   ]
  },
  {
   "cell_type": "code",
   "execution_count": 8,
   "metadata": {},
   "outputs": [
    {
     "name": "stdout",
     "output_type": "stream",
     "text": [
      "Shape of target: (150,)\n"
     ]
    }
   ],
   "source": [
    "print(\"Shape of target: {}\".format(iris_datasets['target'].shape))"
   ]
  },
  {
   "cell_type": "code",
   "execution_count": 10,
   "metadata": {},
   "outputs": [
    {
     "name": "stdout",
     "output_type": "stream",
     "text": [
      "Target: \n",
      "[0 0 0 0 0 0 0 0 0 0 0 0 0 0 0 0 0 0 0 0 0 0 0 0 0 0 0 0 0 0 0 0 0 0 0 0 0\n",
      " 0 0 0 0 0 0 0 0 0 0 0 0 0 1 1 1 1 1 1 1 1 1 1 1 1 1 1 1 1 1 1 1 1 1 1 1 1\n",
      " 1 1 1 1 1 1 1 1 1 1 1 1 1 1 1 1 1 1 1 1 1 1 1 1 1 1 2 2 2 2 2 2 2 2 2 2 2\n",
      " 2 2 2 2 2 2 2 2 2 2 2 2 2 2 2 2 2 2 2 2 2 2 2 2 2 2 2 2 2 2 2 2 2 2 2 2 2\n",
      " 2 2]\n"
     ]
    }
   ],
   "source": [
    "print(\"Target: \\n{}\".format(iris_datasets['target']))"
   ]
  },
  {
   "cell_type": "code",
   "execution_count": 11,
   "metadata": {},
   "outputs": [],
   "source": [
    "from sklearn.model_selection import train_test_split\n",
    "X_train, X_test, y_train, y_test = train_test_split(iris_datasets['data'], iris_datasets['target'], random_state=0)"
   ]
  },
  {
   "cell_type": "code",
   "execution_count": 12,
   "metadata": {},
   "outputs": [
    {
     "name": "stdout",
     "output_type": "stream",
     "text": [
      "X_train shape: (112, 4)\n",
      "y_train shape: (112,)\n"
     ]
    }
   ],
   "source": [
    "print(\"X_train shape: {}\".format(X_train.shape))\n",
    "print(\"y_train shape: {}\".format(y_train.shape))"
   ]
  },
  {
   "cell_type": "code",
   "execution_count": 13,
   "metadata": {},
   "outputs": [
    {
     "name": "stdout",
     "output_type": "stream",
     "text": [
      "X_test shape: (38, 4)\n",
      "y_test shape: (38,)\n"
     ]
    }
   ],
   "source": [
    "print(\"X_test shape: {}\".format(X_test.shape))\n",
    "print(\"y_test shape: {}\".format(y_test.shape))"
   ]
  },
  {
   "cell_type": "code",
   "execution_count": 16,
   "metadata": {
    "scrolled": true
   },
   "outputs": [
    {
     "name": "stderr",
     "output_type": "stream",
     "text": [
      "C:\\Users\\yue.yuan\\AppData\\Local\\Programs\\Python\\Python37\\lib\\site-packages\\ipykernel_launcher.py:3: FutureWarning: pandas.scatter_matrix is deprecated, use pandas.plotting.scatter_matrix instead\n",
      "  This is separate from the ipykernel package so we can avoid doing imports until\n"
     ]
    },
    {
     "data": {
      "image/png": "[encoded data removed]",
      "text/plain": [
       "<Figure size 1080x1080 with 16 Axes>"
      ]
     },
     "metadata": {
      "needs_background": "light"
     },
     "output_type": "display_data"
    }
   ],
   "source": [
    "import mglearn\n",
    "iris_dataframe = pd.DataFrame(X_train, columns=iris_datasets.feature_names)\n",
    "grr = pd.plotting.scatter_matrix(iris_dataframe, c=y_train, figsize=(15,15), marker='o', hist_kwds={'bins': 20}, s=60, alpha=.7, cmap=mglearn.cm3)"
   ]
  },
  {
   "cell_type": "code",
   "execution_count": 17,
   "metadata": {},
   "outputs": [],
   "source": [
    "from sklearn.neighbors import KNeighborsClassifier\n",
    "knn = KNeighborsClassifier(n_neighbors=1)"
   ]
  },
  {
   "cell_type": "code",
   "execution_count": 18,
   "metadata": {},
   "outputs": [
    {
     "data": {
      "text/plain": [
       "KNeighborsClassifier(algorithm='auto', leaf_size=30, metric='minkowski',\n",
       "           metric_params=None, n_jobs=None, n_neighbors=1, p=2,\n",
       "           weights='uniform')"
      ]
     },
     "execution_count": 18,
     "metadata": {},
     "output_type": "execute_result"
    }
   ],
   "source": [
    "knn.fit(X_train, y_train)"
   ]
  },
  {
   "cell_type": "code",
   "execution_count": 21,
   "metadata": {},
   "outputs": [
    {
     "name": "stdout",
     "output_type": "stream",
     "text": [
      "X_new shape: (1, 4)\n"
     ]
    }
   ],
   "source": [
    "import numpy as np\n",
    "X_new = np.array([[5,2.9,1,0.2]])\n",
    "print(\"X_new shape: {}\".format(X_new.shape))"
   ]
  },
  {
   "cell_type": "code",
   "execution_count": 22,
   "metadata": {},
   "outputs": [
    {
     "name": "stdout",
     "output_type": "stream",
     "text": [
      "Prediction: [0]\n",
      "Predicted target name: ['setosa']\n"
     ]
    }
   ],
   "source": [
    "prediction = knn.predict(X_new)\n",
    "print(\"Prediction: {}\".format(prediction))\n",
    "print(\"Predicted target name: {}\".format(iris_datasets['target_names'][prediction]))"
   ]
  },
  {
   "cell_type": "code",
   "execution_count": 23,
   "metadata": {},
   "outputs": [
    {
     "name": "stdout",
     "output_type": "stream",
     "text": [
      "Test set pred: [2 1 0 2 0 2 0 1 1 1 2 1 1 1 1 0 1 1 0 0 2 1 0 0 2 0 0 1 1 0 2 1 0 2 2 1 0\n",
      " 2]\n"
     ]
    }
   ],
   "source": [
    "y_pred = knn.predict(X_test)\n",
    "print(\"Test set pred: {}\".format(y_pred))"
   ]
  },
  {
   "cell_type": "code",
   "execution_count": 24,
   "metadata": {},
   "outputs": [
    {
     "name": "stdout",
     "output_type": "stream",
     "text": [
      "Test set score: 0.9736842105263158\n"
     ]
    }
   ],
   "source": [
    "print(\"Test set score: {}\".format(np.mean(y_pred == y_test)))"
   ]
  },
  {
   "cell_type": "code",
   "execution_count": 27,
   "metadata": {},
   "outputs": [
    {
     "name": "stdout",
     "output_type": "stream",
     "text": [
      "Test score: 0.97\n"
     ]
    }
   ],
   "source": [
    "print(\"Test score: {:.2f}\".format(knn.score(X_test, y_test)))"
   ]
  }
 ],
 "metadata": {
  "kernelspec": {
   "display_name": "Python 3",
   "language": "python",
   "name": "python3"
  },
  "language_info": {
   "codemirror_mode": {
    "name": "ipython",
    "version": 3
   },
   "file_extension": ".py",
   "mimetype": "text/x-python",
   "name": "python",
   "nbconvert_exporter": "python",
   "pygments_lexer": "ipython3",
   "version": "3.7.0"
  }
 },
 "nbformat": 4,
 "nbformat_minor": 2
}
